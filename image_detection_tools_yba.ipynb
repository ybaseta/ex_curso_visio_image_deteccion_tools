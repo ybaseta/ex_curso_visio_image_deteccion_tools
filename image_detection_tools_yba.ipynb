{
  "nbformat": 4,
  "nbformat_minor": 0,
  "metadata": {
    "colab": {
      "provenance": [],
      "authorship_tag": "ABX9TyPU1aC091IPh2AJ8/O6OHdn",
      "include_colab_link": true
    },
    "kernelspec": {
      "name": "python3",
      "display_name": "Python 3"
    },
    "language_info": {
      "name": "python"
    }
  },
  "cells": [
    {
      "cell_type": "markdown",
      "metadata": {
        "id": "view-in-github",
        "colab_type": "text"
      },
      "source": [
        "<a href=\"https://colab.research.google.com/github/ybaseta/ex_curso_visio_image_deteccion_tools/blob/main/image_detection_tools_yba.ipynb\" target=\"_parent\"><img src=\"https://colab.research.google.com/assets/colab-badge.svg\" alt=\"Open In Colab\"/></a>"
      ]
    },
    {
      "cell_type": "code",
      "execution_count": null,
      "metadata": {
        "id": "vXnaSz9x1ZOU"
      },
      "outputs": [],
      "source": []
    },
    {
      "cell_type": "markdown",
      "source": [
        "Ejercio del curso de visio con ejemplos de herramientas para detección de bordes, texturas y más en imágenes"
      ],
      "metadata": {
        "id": "e-5APY6o1kST"
      }
    }
  ]
}