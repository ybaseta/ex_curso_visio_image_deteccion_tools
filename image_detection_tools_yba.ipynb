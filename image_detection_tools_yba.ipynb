{
  "nbformat": 4,
  "nbformat_minor": 0,
  "metadata": {
    "colab": {
      "provenance": [],
      "authorship_tag": "ABX9TyMT6/tOjd011DeihsVvgyoa",
      "include_colab_link": true
    },
    "kernelspec": {
      "name": "python3",
      "display_name": "Python 3"
    },
    "language_info": {
      "name": "python"
    }
  },
  "cells": [
    {
      "cell_type": "markdown",
      "metadata": {
        "id": "view-in-github",
        "colab_type": "text"
      },
      "source": [
        "<a href=\"https://colab.research.google.com/github/ybaseta/ex_curso_visio_image_deteccion_tools/blob/main/image_detection_tools_yba.ipynb\" target=\"_parent\"><img src=\"https://colab.research.google.com/assets/colab-badge.svg\" alt=\"Open In Colab\"/></a>"
      ]
    },
    {
      "cell_type": "code",
      "execution_count": null,
      "metadata": {
        "id": "vXnaSz9x1ZOU"
      },
      "outputs": [],
      "source": []
    },
    {
      "cell_type": "markdown",
      "source": [
        "Ejercicio del curso de visio con ejemplos de herramientas para detección de bordes, texturas y más en imágenes"
      ],
      "metadata": {
        "id": "e-5APY6o1kST"
      }
    },
    {
      "cell_type": "code",
      "source": [
        "# Step 1: Install OpenCV (if not already installed)\n",
        "!pip install opencv-python-headless\n",
        "\n",
        "# Step 2: Import necessary libraries\n",
        "import cv2\n",
        "import numpy as np\n",
        "import matplotlib.pyplot as plt\n",
        "from google.colab import files\n",
        "from PIL import Image\n",
        "from io import BytesIO\n",
        "\n",
        "# Step 3: Upload an image\n",
        "uploaded = files.upload()\n",
        "\n",
        "# Step 4: Read the uploaded image\n",
        "for filename in uploaded.keys():\n",
        "    image = Image.open(BytesIO(uploaded[filename]))\n",
        "    image_np = np.array(image)\n",
        "\n",
        "# Step 5: Convert to grayscale\n",
        "gray = cv2.cvtColor(image_np, cv2.COLOR_RGB2GRAY)\n",
        "\n",
        "# Step 6: Apply Canny edge detection\n",
        "edges = cv2.Canny(gray, threshold1=100, threshold2=200)\n",
        "\n",
        "# Step 7: Display original and edge-detected images\n",
        "plt.figure(figsize=(12, 6))\n",
        "\n",
        "plt.subplot(1, 2, 1)\n",
        "plt.title(\"Original Image\")\n",
        "plt.imshow(image_np)\n",
        "plt.axis(\"off\")\n",
        "\n",
        "plt.subplot(1, 2, 2)\n",
        "plt.title(\"Edge Detection (Canny)\")\n",
        "plt.imshow(edges, cmap='gray')\n",
        "plt.axis(\"off\")\n",
        "\n",
        "plt.tight_layout()\n",
        "plt.show()"
      ],
      "metadata": {
        "id": "iBXBTc4o5qmX"
      },
      "execution_count": null,
      "outputs": []
    }
  ]
}